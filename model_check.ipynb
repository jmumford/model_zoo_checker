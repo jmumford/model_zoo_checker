{
 "cells": [
  {
   "cell_type": "markdown",
   "metadata": {},
   "source": [
    "Hope this is helpful.  Some of the code might seem \"odd\", but it is being used to set up models in FSL.\n",
    "Here's what to do (I think)\n",
    "First, install fitlins.  I just followed the instructions for Manually Prepared Environment\n",
    "If you aren't familiar with environments, let Jeanette know and I can try to help.\n",
    "\n",
    "Next, clone the model zoo repo, because Chris has put some BIDS light data there we can use \n",
    "\n",
    "Last, after you clone the repo, say, for example, you'd like to work with ds005, then cd into that directory and run\n",
    "\n",
    "datalad install -r .\n",
    "\n",
    "Ah, shoot, I guess you'll need to also install datalad.  I'm guessing there are instructions to follow online.  I don't recall how I did it, but the super nerds will be able to help you.\n",
    "\n",
    "Last, in your repo, if you change the name of a variable in a convolve transform to something different than the input, my code breaks.  I'll try to fix it soon, but meanwhile just don't do that :)"
   ]
  },
  {
   "cell_type": "code",
   "execution_count": 1,
   "metadata": {},
   "outputs": [
    {
     "name": "stderr",
     "output_type": "stream",
     "text": [
      "/Users/jeanettemumford/miniconda3/envs/fitlins/lib/python3.9/site-packages/nilearn/datasets/__init__.py:93: FutureWarning: Fetchers from the nilearn.datasets module will be updated in version 0.9 to return python strings instead of bytes and Pandas dataframes instead of Numpy arrays.\n",
      "  warn(\"Fetchers from the nilearn.datasets module will be \"\n"
     ]
    }
   ],
   "source": [
    "from bids.layout import BIDSLayout\n",
    "from bids.layout.writing import build_path\n",
    "from bids.modeling import BIDSStatsModelsGraph\n",
    "from bids.modeling import transformations as tm\n",
    "import sys\n",
    "import pandas as pd\n",
    "from bids.variables import DenseRunVariable\n",
    "import numpy as np\n",
    "from nilearn.plotting import plot_design_matrix,  plot_contrast_matrix\n",
    "from itertools import chain\n",
    "from copy import deepcopy\n",
    "import matplotlib.pyplot as plt\n",
    "import json\n",
    "\n"
   ]
  },
  {
   "cell_type": "code",
   "execution_count": 2,
   "metadata": {},
   "outputs": [],
   "source": [
    "\n",
    "def snake_to_camel(string):\n",
    "    words = string.split('_')\n",
    "    return words[0] + ''.join(word.title() for word in words[1:])\n",
    "\n",
    "\n",
    "def trim_instructions(instructions):\n",
    "    instructions = instructions.copy()\n",
    "    transformation_names = [val['name'] for val in instructions]\n",
    "    not_convolve = [\n",
    "        i for i,x in enumerate(transformation_names) if x != 'Convolve'\n",
    "    ]\n",
    "    convolve = [\n",
    "        i for i,x in enumerate(transformation_names) if x == 'Convolve'\n",
    "    ]\n",
    "    trimmed_instructions = [\n",
    "        instructions[i] for i in not_convolve\n",
    "    ]\n",
    "    convolve_regs = [\n",
    "        instructions[i]['input'] for i in convolve\n",
    "    ]\n",
    "    return trimmed_instructions, convolve_regs\n",
    "\n",
    "\n",
    "def categorize_regressors(node, convolve_regs, trans_out):\n",
    "    \"\"\"\n",
    "    Three sets of regressors, main design matrix regressors involve\n",
    "    those to be convolved and not convolved, but used in contrast, last set is\n",
    "    confound regressors (not used in contrasts and not convolved)\n",
    "    \"\"\"\n",
    "    import itertools\n",
    "    # Just in case they don't use x (although they should)\n",
    "    model_name = list(node.model.keys())[0]\n",
    "    specified_reg_name_list = node.model.get(model_name).copy()\n",
    "    specified_reg_names = set(specified_reg_name_list) - {1}\n",
    "    dense_reg_options = {\n",
    "        key for key, item in trans_out.variables.items() if \n",
    "        isinstance(item, DenseRunVariable)\n",
    "    }\n",
    "\n",
    "    contrast_regs = set()\n",
    "    for contrast in node.contrasts:\n",
    "        contrast_regs_loop = set(contrast['condition_list'])\n",
    "        contrast_regs = contrast_regs | contrast_regs_loop\n",
    "    \n",
    "    convolve_regs = set(itertools.chain(*convolve_regs))\n",
    "    confound_regs = specified_reg_names & (dense_reg_options - contrast_regs)\n",
    "    main_convolve_regs = specified_reg_names & convolve_regs\n",
    "    main_no_convolve_regs = specified_reg_names & (contrast_regs - convolve_regs)\n",
    "    regs_missing = (specified_reg_names - \n",
    "        (confound_regs | main_convolve_regs | main_no_convolve_regs))\n",
    "    contrast_reg_missing = contrast_regs - specified_reg_names\n",
    "    # FIX, this breaks if they changed name in output of convolve\n",
    "    if regs_missing:\n",
    "        raise ValueError([f'X specification includes variable(s) {regs_missing}, '\n",
    "                'but these were either not data matrix or were not convolved.'])\n",
    "    if contrast_reg_missing:\n",
    "        raise ValueError([f'Contrast specified refers to {contrast_reg_missing}, '\n",
    "                'but this is not defined in the model.'])\n",
    "\n",
    "    #put back in order so users are not confused\n",
    "    confound_regs_list = [\n",
    "        name for name in specified_reg_name_list if name in confound_regs\n",
    "    ]\n",
    "    convolve_regs_list = [\n",
    "        name for name in convolve_regs if name in main_convolve_regs\n",
    "    ]\n",
    "    no_convolve_reg_list = [\n",
    "        name for name in specified_reg_name_list if name in main_no_convolve_regs\n",
    "    ]\n",
    "    regs_categorized = {\n",
    "        \"confound_regs\": confound_regs_list,\n",
    "        \"convolve_regs\": convolve_regs_list,\n",
    "        \"no_convolve_regs\": no_convolve_reg_list\n",
    "    }\n",
    "    return regs_categorized\n",
    "\n",
    "\n",
    "def make_run_level_des_files(trans_out, node, convolve_regs):   \n",
    "    if len(node.model) > 1:\n",
    "        sys.exit(\n",
    "            f\"More than one model was entered into Node {node.name}. \" +\n",
    "            \"Please repair model specification.\"\n",
    "        )\n",
    "\n",
    "    regs_categorized = categorize_regressors(node, convolve_regs, trans_out)\n",
    "\n",
    "    confound_regmat = pd.DataFrame()\n",
    "    for confound_reg in regs_categorized['confound_regs']:\n",
    "        confound_regmat = pd.concat(\n",
    "            [confound_regmat, trans_out.variables.get(confound_reg).values],\n",
    "            axis=1\n",
    "        )\n",
    "    # Fix NA that can pop up in first TR.  MAY NEED TO CHANGE LATER!!\n",
    "    idx, _ = np.where(confound_regmat.isna())\n",
    "    if any(idx>0):\n",
    "        raise ValueError(['Regressor from data matrix has NaNs beyond first' \n",
    "            'time point']) \n",
    "    \n",
    "    confound_regmat = confound_regmat.fillna(0)\n",
    "    \n",
    "    all_regs = {'confounds': confound_regmat}\n",
    "    \n",
    "    for reg_to_convolve in regs_categorized['convolve_regs']:\n",
    "        reg_info = trans_out.variables.get(reg_to_convolve).to_df(entities=False)\n",
    "        sparse_3col = reg_info[['onset', 'duration', 'amplitude']]\n",
    "        all_regs[reg_to_convolve] = sparse_3col\n",
    "        \n",
    "    for reg_no_convolve in regs_categorized['no_convolve_regs']:\n",
    "        reg_info = pd.DataFrame(trans_out.variables.get(reg_no_convolve).values)\n",
    "        all_regs[reg_no_convolve] = reg_info\n",
    "    return all_regs\n",
    "\n",
    "\n",
    "def run_node_3col_grabber(graph):\n",
    "    collection_pattern = ['sub-{subject}[_ses-{session}][_task-{task}][_run-{run}]']\n",
    "    for node in graph.nodes.values():\n",
    "        level = node.level\n",
    "\n",
    "        if level == \"run\":\n",
    "            run_trans = node.transformations.copy()\n",
    "            apply_trans = tm.TransformerManager(run_trans['transformer'])\n",
    "\n",
    "            reg_info_collections ={}\n",
    "\n",
    "            for collection in node._collections:\n",
    "                collection_label = build_path(\n",
    "                    collection.entities, collection_pattern, strict=False\n",
    "                )\n",
    "                trimmed_instructions, convolve_regs = trim_instructions(\n",
    "                    run_trans['instructions']\n",
    "                )\n",
    "                trans_out = apply_trans.transform(\n",
    "                    collection.clone(), trimmed_instructions\n",
    "                )\n",
    "                reg_info = make_run_level_des_files(\n",
    "                     trans_out, node, convolve_regs\n",
    "                )\n",
    "                reg_info_collections[collection_label] = reg_info\n",
    "    return reg_info_collections\n",
    "\n",
    "\n",
    "# swiped from LoadBIDSModel\n",
    "# Can't use directly because _load_run_level writes out files (only bit I deleted)\n",
    "def load_graph(graph, node=None, inputs=None, **filters):\n",
    "    if node is None:\n",
    "        node = graph.root_node\n",
    "\n",
    "    specs = node.run(inputs, group_by=node.group_by, **filters)\n",
    "    outputs = list(chain(*[s.contrasts for s in specs]))\n",
    "\n",
    "    base_entities = graph.model[\"input\"]\n",
    "\n",
    "    all_specs = {\n",
    "        node.name: [\n",
    "            {\n",
    "                'contrasts': [c._asdict() for c in spec.contrasts],\n",
    "                'entities': {**base_entities, **spec.entities},\n",
    "                'level': spec.node.level,\n",
    "                'X': spec.X,\n",
    "                'name': spec.node.name,\n",
    "                'model': spec.node.model,\n",
    "                # Metadata is only used in higher level models; save space\n",
    "                'metadata': spec.metadata if spec.node.level != \"run\" else None,\n",
    "            }\n",
    "            for spec in specs\n",
    "        ]\n",
    "    }\n",
    "\n",
    "    for child in node.children:\n",
    "        all_specs.update(\n",
    "            load_graph(graph, child.destination, outputs, **child.filter)\n",
    "        )\n",
    "\n",
    "    return all_specs\n",
    "\n"
   ]
  },
  {
   "cell_type": "code",
   "execution_count": 24,
   "metadata": {},
   "outputs": [],
   "source": [
    "root = '/Users/jeanettemumford/Dropbox/Research/Projects/Fsf_converter/ModelZoo/model-zoo/ds005/ds000005'\n",
    "database_path = '/Users/jeanettemumford/Dropbox/Research/Projects/Fsf_converter/ModelZoo/model-zoo/ds005/dbcache'\n",
    "reset_database = True\n",
    "model_path = '/Users/jeanettemumford/Dropbox/Research/Projects/Fsf_converter/ModelZoo/my_models/model-ds0005_openfmri_model_twp_grp_diff_smdl.json'\n",
    "\n"
   ]
  },
  {
   "cell_type": "code",
   "execution_count": 25,
   "metadata": {},
   "outputs": [],
   "source": [
    "layout = BIDSLayout(\n",
    "        root = root,\n",
    "        database_path=database_path,\n",
    "        reset_database=reset_database\n",
    ")\n",
    "\n",
    "graph = BIDSStatsModelsGraph(layout, model_path)\n",
    "graph.load_collections(scan_length=480)    \n",
    "\n"
   ]
  },
  {
   "cell_type": "code",
   "execution_count": 26,
   "metadata": {},
   "outputs": [],
   "source": [
    "reg_info_collections = run_node_3col_grabber(graph)\n"
   ]
  },
  {
   "cell_type": "code",
   "execution_count": 27,
   "metadata": {},
   "outputs": [
    {
     "name": "stdout",
     "output_type": "stream",
     "text": [
      "dict_keys(['sub-01_task-mixedgamblestask_run-1', 'sub-01_task-mixedgamblestask_run-2', 'sub-01_task-mixedgamblestask_run-3', 'sub-02_task-mixedgamblestask_run-1', 'sub-02_task-mixedgamblestask_run-2', 'sub-02_task-mixedgamblestask_run-3', 'sub-03_task-mixedgamblestask_run-1', 'sub-03_task-mixedgamblestask_run-2', 'sub-03_task-mixedgamblestask_run-3', 'sub-04_task-mixedgamblestask_run-1', 'sub-04_task-mixedgamblestask_run-2', 'sub-04_task-mixedgamblestask_run-3'])\n"
     ]
    }
   ],
   "source": [
    "print(reg_info_collections.keys())"
   ]
  },
  {
   "cell_type": "code",
   "execution_count": 28,
   "metadata": {},
   "outputs": [
    {
     "name": "stdout",
     "output_type": "stream",
     "text": [
      "dict_keys(['confounds', 'distance from indifference', 'loss', 'all_trials', 'gain'])\n",
      "confounds\n",
      "Empty DataFrame\n",
      "Columns: []\n",
      "Index: []\n",
      "distance from indifference\n",
      "    onset  duration  amplitude\n",
      "0     0.0         3    -0.0814\n",
      "1     4.0         3    -0.4147\n",
      "2     8.0         3     0.2519\n",
      "3    18.0         3    -0.0814\n",
      "4    24.0         3    -0.0814\n",
      "..    ...       ...        ...\n",
      "81  458.0         3     0.5853\n",
      "82  462.0         3     0.2519\n",
      "83  466.0         3    -0.0814\n",
      "84  470.0         3    -0.4147\n",
      "85  474.0         3    -0.0814\n",
      "\n",
      "[86 rows x 3 columns]\n",
      "loss\n",
      "    onset  duration  amplitude\n",
      "0     0.0         3   2.546512\n",
      "1     4.0         3  -0.453488\n",
      "2     8.0         3   2.546512\n",
      "3    18.0         3   3.546512\n",
      "4    24.0         3  -7.453488\n",
      "..    ...       ...        ...\n",
      "81  458.0         3   5.546512\n",
      "82  462.0         3  -0.453488\n",
      "83  466.0         3  -3.453488\n",
      "84  470.0         3  -0.453488\n",
      "85  474.0         3   1.546512\n",
      "\n",
      "[86 rows x 3 columns]\n",
      "all_trials\n",
      "    onset  duration  amplitude\n",
      "0     0.0         3          1\n",
      "1     4.0         3          1\n",
      "2     8.0         3          1\n",
      "3    18.0         3          1\n",
      "4    24.0         3          1\n",
      "..    ...       ...        ...\n",
      "81  458.0         3          1\n",
      "82  462.0         3          1\n",
      "83  466.0         3          1\n",
      "84  470.0         3          1\n",
      "85  474.0         3          1\n",
      "\n",
      "[86 rows x 3 columns]\n",
      "gain\n",
      "    onset  duration  amplitude\n",
      "0     0.0         3   -5.55814\n",
      "1     4.0         3   -7.55814\n",
      "2     8.0         3  -15.55814\n",
      "3    18.0         3    8.44186\n",
      "4    24.0         3   -7.55814\n",
      "..    ...       ...        ...\n",
      "81  458.0         3   -9.55814\n",
      "82  462.0         3   10.44186\n",
      "83  466.0         3    0.44186\n",
      "84  470.0         3   -5.55814\n",
      "85  474.0         3   -1.55814\n",
      "\n",
      "[86 rows x 3 columns]\n"
     ]
    }
   ],
   "source": [
    "print(reg_info_collections['sub-01_task-mixedgamblestask_run-1'].keys())\n",
    "\n",
    "for key, value in reg_info_collections['sub-01_task-mixedgamblestask_run-1'].items():\n",
    "    print(key)\n",
    "    print(value)"
   ]
  },
  {
   "cell_type": "code",
   "execution_count": 29,
   "metadata": {},
   "outputs": [],
   "source": [
    "all_specs = load_graph(graph, node=None, inputs=None)"
   ]
  },
  {
   "cell_type": "code",
   "execution_count": 30,
   "metadata": {},
   "outputs": [
    {
     "name": "stdout",
     "output_type": "stream",
     "text": [
      "{'contrasts': [{'name': 'neg_loss_parametric', 'conditions': ['loss'], 'weights': [-1], 'test': 't', 'entities': {'run': 1, 'subject': '01', 'contrast': 'neg_loss_parametric'}}], 'entities': {'task': 'mixedgamblestask', 'subject': '01', 'run': 1}, 'level': 'run', 'X':      all_trials      gain      loss  distance from indifference\n",
      "0      0.000864 -0.004630  0.002181                   -0.000079\n",
      "1      0.017514 -0.097264  0.045131                   -0.001358\n",
      "2      0.255692 -1.421978  0.649814                   -0.020960\n",
      "3      0.581643 -3.268537  1.425435                   -0.053587\n",
      "4      0.769143 -4.794845  1.184361                   -0.148505\n",
      "..          ...       ...       ...                         ...\n",
      "235    0.826649  3.221939 -2.032576                    0.028207\n",
      "236    0.798896  0.424372 -2.203717                   -0.136800\n",
      "237    0.788930 -2.512316 -1.524280                   -0.285794\n",
      "238    0.762143 -3.284466 -0.390405                   -0.277189\n",
      "239    0.761435 -2.905342  0.472039                   -0.210813\n",
      "\n",
      "[240 rows x 4 columns], 'name': 'run_within_subject', 'model': {'x': ['all_trials', 'gain', 'loss', 'distance from indifference', 1]}, 'metadata': None}\n"
     ]
    }
   ],
   "source": [
    "print(all_specs['run_within_subject'][0])\n",
    "#print(all_specs[0])"
   ]
  },
  {
   "cell_type": "code",
   "execution_count": 31,
   "metadata": {},
   "outputs": [
    {
     "name": "stdout",
     "output_type": "stream",
     "text": [
      "Model run_within_subject for {'task': 'mixedgamblestask', 'subject': '01', 'run': 1}\n",
      "contrasts: [{'name': 'neg_loss_parametric', 'conditions': ['loss'], 'weights': [-1], 'test': 't', 'entities': {'run': 1, 'subject': '01', 'contrast': 'neg_loss_parametric'}}]\n"
     ]
    },
    {
     "data": {
      "image/png": "[encoded data removed]",
      "text/plain": [
       "<Figure size 720x432 with 2 Axes>"
      ]
     },
     "metadata": {
      "needs_background": "light"
     },
     "output_type": "display_data"
    }
   ],
   "source": [
    "import matplotlib.pyplot as plt\n",
    "\n",
    "for key, cur_spec in all_specs.items():\n",
    "    if cur_spec[0]['level'] == 'run':\n",
    "        print(f'Model {key} for {cur_spec[0][\"entities\"]}')\n",
    "        print(f'contrasts: {cur_spec[0][\"contrasts\"]}')\n",
    "        fig, (ax1, ax2) = plt.subplots(figsize=(10, 6), nrows=1, ncols=2)\n",
    "        cur_spec[0]['X'].plot(ax=ax1)\n",
    "        ax1.legend(loc='lower left')\n",
    "        plot_design_matrix(cur_spec[0]['X'], ax=ax2)\n",
    "        plt.show()\n"
   ]
  },
  {
   "cell_type": "code",
   "execution_count": 32,
   "metadata": {},
   "outputs": [
    {
     "name": "stdout",
     "output_type": "stream",
     "text": [
      "Level subject\n",
      "Model combine_runs_within_subject\n",
      "   neg_loss_parametric\n",
      "0                    1\n",
      "1                    1\n",
      "2                    1\n",
      "[{'name': 'neg_loss_parametric', 'conditions': ['neg_loss_parametric'], 'weights': [1], 'test': 't', 'entities': {'subject': '01', 'contrast': 'neg_loss_parametric'}}]\n",
      "Level dataset\n",
      "Model group_average\n",
      "   sex.M  sex.F\n",
      "0    1.0    0.0\n",
      "1    0.0    1.0\n",
      "2    0.0    1.0\n",
      "3    1.0    0.0\n",
      "[{'name': 'female_gt_male', 'conditions': ['sex.M', 'sex.F'], 'weights': [-1, 1], 'test': 't', 'entities': {'contrast': 'female_gt_male'}}, {'name': 'male_gt_female', 'conditions': ['sex.M', 'sex.F'], 'weights': [1, -1], 'test': 't', 'entities': {'contrast': 'male_gt_female'}}]\n"
     ]
    }
   ],
   "source": [
    "\n",
    "for lev_key, lev_info in all_specs.items():\n",
    "    cur_level = lev_info[0]['level']\n",
    "    if cur_level != 'run':\n",
    "        print(f'Level {cur_level}')\n",
    "        print(f'Model {lev_info[0][\"name\"]}')\n",
    "        print(lev_info[0]['X'])\n",
    "        print(lev_info[0]['contrasts'])"
   ]
  },
  {
   "cell_type": "code",
   "execution_count": null,
   "metadata": {},
   "outputs": [],
   "source": [
    "# read in json and write back out to fix ugliness\n",
    "import json\n",
    "with open(model_path, 'r') as f:\n",
    "  mod_json = json.load(f)\n",
    "print(mod_json)\n",
    "with open(model_path, 'w') as fp:\n",
    "    json.dump(mod_json, fp, indent=4)"
   ]
  }
 ],
 "metadata": {
  "interpreter": {
   "hash": "f183487e75c86b25d211dece0ae7dc68729df7aaa20f2c11ebe325676df970a7"
  },
  "kernelspec": {
   "display_name": "Python 3.9.12 ('fitlins')",
   "language": "python",
   "name": "python3"
  },
  "language_info": {
   "codemirror_mode": {
    "name": "ipython",
    "version": 3
   },
   "file_extension": ".py",
   "mimetype": "text/x-python",
   "name": "python",
   "nbconvert_exporter": "python",
   "pygments_lexer": "ipython3",
   "version": "3.9.12"
  },
  "orig_nbformat": 4
 },
 "nbformat": 4,
 "nbformat_minor": 2
}
