{
 "cells": [
  {
   "cell_type": "code",
   "execution_count": 1,
   "metadata": {},
   "outputs": [
    {
     "name": "stderr",
     "output_type": "stream",
     "text": [
      "/Users/jeanettemumford/miniconda3/envs/fitlins/lib/python3.9/site-packages/nilearn/datasets/__init__.py:93: FutureWarning: Fetchers from the nilearn.datasets module will be updated in version 0.9 to return python strings instead of bytes and Pandas dataframes instead of Numpy arrays.\n",
      "  warn(\"Fetchers from the nilearn.datasets module will be \"\n"
     ]
    }
   ],
   "source": [
    "from bids.layout import BIDSLayout\n",
    "from bids.layout.writing import build_path\n",
    "from bids.modeling import BIDSStatsModelsGraph\n",
    "from bids.modeling import transformations as tm\n",
    "import sys\n",
    "import pandas as pd\n",
    "from bids.variables import DenseRunVariable\n",
    "import numpy as np\n",
    "from nilearn.plotting import plot_design_matrix\n",
    "from itertools import chain\n"
   ]
  },
  {
   "cell_type": "code",
   "execution_count": 2,
   "metadata": {},
   "outputs": [],
   "source": [
    "\n",
    "def snake_to_camel(string):\n",
    "    words = string.split('_')\n",
    "    return words[0] + ''.join(word.title() for word in words[1:])\n",
    "\n",
    "\n",
    "def trim_instructions(instructions):\n",
    "    instructions = instructions.copy()\n",
    "    transformation_names = [val['name'] for val in instructions]\n",
    "    not_convolve = [\n",
    "        i for i,x in enumerate(transformation_names) if x != 'Convolve'\n",
    "    ]\n",
    "    convolve = [\n",
    "        i for i,x in enumerate(transformation_names) if x == 'Convolve'\n",
    "    ]\n",
    "    trimmed_instructions = [\n",
    "        instructions[i] for i in not_convolve\n",
    "    ]\n",
    "    convolve_regs = [\n",
    "        instructions[i]['input'] for i in convolve\n",
    "    ]\n",
    "    return trimmed_instructions, convolve_regs\n",
    "\n",
    "\n",
    "def categorize_regressors(node, convolve_regs, trans_out):\n",
    "    \"\"\"\n",
    "    Three sets of regressors, main design matrix regressors involve\n",
    "    those to be convolved and not convolved, but used in contrast, last set is\n",
    "    confound regressors (not used in contrasts and not convolved)\n",
    "    \"\"\"\n",
    "    # Just in case they don't use x (although they should)\n",
    "    model_name = list(node.model.keys())[0]\n",
    "    specified_reg_name_list = node.model.get(model_name).copy()\n",
    "    specified_reg_names = set(specified_reg_name_list) - {1}\n",
    "    dense_reg_options = {\n",
    "        key for key, item in trans_out.variables.items() if \n",
    "        isinstance(item, DenseRunVariable)\n",
    "    }\n",
    "\n",
    "    contrast_regs = set()\n",
    "    for contrast in node.contrasts:\n",
    "        contrast_regs_loop = set(contrast['condition_list'])\n",
    "        contrast_regs = contrast_regs | contrast_regs_loop\n",
    "    \n",
    "    confound_regs = specified_reg_names & (dense_reg_options - contrast_regs)\n",
    "    main_convolve_regs = specified_reg_names & set(convolve_regs)\n",
    "    main_no_convolve_regs = specified_reg_names & (contrast_regs - set(convolve_regs))\n",
    "    regs_missing = (specified_reg_names - \n",
    "        (confound_regs | main_convolve_regs | main_no_convolve_regs))\n",
    "    contrast_reg_missing = contrast_regs - specified_reg_names\n",
    "    # FIX, this breaks if they changed name in output of convolve\n",
    "    if regs_missing:\n",
    "        raise ValueError([f'X specification includes variable(s) {regs_missing}, '\n",
    "                'but these were either not data matrix or were not convolved.'])\n",
    "    if contrast_reg_missing:\n",
    "        raise ValueError([f'Contrast specified refers to {contrast_reg_missing}, '\n",
    "                'but this is not defined in the model.'])\n",
    "\n",
    "    #put back in order so users are not confused\n",
    "    confound_regs_list = [\n",
    "        name for name in specified_reg_name_list if name in confound_regs\n",
    "    ]\n",
    "    convolve_regs_list = [\n",
    "        name for name in convolve_regs if name in main_convolve_regs\n",
    "    ]\n",
    "    no_convolve_reg_list = [\n",
    "        name for name in specified_reg_name_list if name in main_no_convolve_regs\n",
    "    ]\n",
    "    regs_categorized = {\n",
    "        \"confound_regs\": confound_regs_list,\n",
    "        \"convolve_regs\": convolve_regs_list,\n",
    "        \"no_convolve_regs\": no_convolve_reg_list\n",
    "    }\n",
    "    return regs_categorized\n",
    "\n",
    "\n",
    "def make_run_level_des_files(trans_out, node, convolve_regs):   \n",
    "    if len(node.model) > 1:\n",
    "        sys.exit(\n",
    "            f\"More than one model was entered into Node {node.name}. \" +\n",
    "            \"Please repair model specification.\"\n",
    "        )\n",
    "\n",
    "    regs_categorized = categorize_regressors(node, convolve_regs, trans_out)\n",
    "\n",
    "    confound_regmat = pd.DataFrame()\n",
    "    for confound_reg in regs_categorized['confound_regs']:\n",
    "        confound_regmat = pd.concat(\n",
    "            [confound_regmat, trans_out.variables.get(confound_reg).values],\n",
    "            axis=1\n",
    "        )\n",
    "    # Fix NA that can pop up in first TR.  MAY NEED TO CHANGE LATER!!\n",
    "    idx, _ = np.where(confound_regmat.isna())\n",
    "    if any(idx>0):\n",
    "        raise ValueError(['Regressor from data matrix has NaNs beyond first' \n",
    "            'time point']) \n",
    "    \n",
    "    confound_regmat = confound_regmat.fillna(0)\n",
    "    \n",
    "    all_regs = {'confounds': confound_regmat}\n",
    "    \n",
    "    for reg_to_convolve in regs_categorized['convolve_regs']:\n",
    "        reg_info = trans_out.variables.get(reg_to_convolve).to_df(entities=False)\n",
    "        sparse_3col = reg_info[['onset', 'duration', 'amplitude']]\n",
    "        all_regs[reg_to_convolve] = sparse_3col\n",
    "        \n",
    "    for reg_no_convolve in regs_categorized['no_convolve_regs']:\n",
    "        reg_info = pd.DataFrame(trans_out.variables.get(reg_no_convolve).values)\n",
    "        all_regs[reg_no_convolve] = reg_info\n",
    "    return all_regs\n",
    "\n",
    "\n",
    "def run_node_3col_grabber(graph):\n",
    "    collection_pattern = ['sub-{subject}[_ses-{session}][_task-{task}][_run-{run}]']\n",
    "    for node in graph.nodes.values():\n",
    "        level = node.level\n",
    "\n",
    "        if level == \"run\":\n",
    "            run_trans = node.transformations.copy()\n",
    "            apply_trans = tm.TransformerManager(run_trans['transformer'])\n",
    "\n",
    "            reg_info_collections ={}\n",
    "\n",
    "            for collection in node._collections:\n",
    "                collection_label = build_path(\n",
    "                    collection.entities, collection_pattern, strict=False\n",
    "                )\n",
    "                trimmed_instructions, convolve_regs = trim_instructions(\n",
    "                    run_trans['instructions']\n",
    "                )\n",
    "                trans_out = apply_trans.transform(\n",
    "                    collection.clone(), trimmed_instructions\n",
    "                )\n",
    "                reg_info = make_run_level_des_files(\n",
    "                     trans_out, node, convolve_regs\n",
    "                )\n",
    "                reg_info_collections[collection_label] = reg_info\n",
    "    return reg_info_collections\n",
    "\n",
    "\n",
    "# swiped from LoadBIDSModel\n",
    "# Can't use directly because _load_run_level writes out files (only bit I deleted)\n",
    "def load_graph(graph, node=None, inputs=None, **filters):\n",
    "    if node is None:\n",
    "        node = graph.root_node\n",
    "\n",
    "    specs = node.run(inputs, group_by=node.group_by, **filters)\n",
    "    outputs = list(chain(*[s.contrasts for s in specs]))\n",
    "\n",
    "    base_entities = graph.model[\"input\"]\n",
    "\n",
    "    all_specs = {\n",
    "        node.name: [\n",
    "            {\n",
    "                'contrasts': [c._asdict() for c in spec.contrasts],\n",
    "                'entities': {**base_entities, **spec.entities},\n",
    "                'level': spec.node.level,\n",
    "                'X': spec.X,\n",
    "                'name': spec.node.name,\n",
    "                'model': spec.node.model,\n",
    "                # Metadata is only used in higher level models; save space\n",
    "                'metadata': spec.metadata if spec.node.level != \"run\" else None,\n",
    "            }\n",
    "            for spec in specs\n",
    "        ]\n",
    "    }\n",
    "\n",
    "    for child in node.children:\n",
    "        all_specs.update(\n",
    "            load_graph(graph, child.destination, outputs, **child.filter)\n",
    "        )\n",
    "\n",
    "    return all_specs\n",
    "\n"
   ]
  },
  {
   "cell_type": "code",
   "execution_count": 3,
   "metadata": {},
   "outputs": [],
   "source": [
    "root = '/Users/jeanettemumford/Dropbox/Research/Projects/Fsf_converter/ModelZoo/model-zoo/ds005/ds000005'\n",
    "database_path = '/Users/jeanettemumford/Dropbox/Research/Projects/Fsf_converter/ModelZoo/model-zoo/ds005/dbcache'\n",
    "reset_database = True\n",
    "model_path = '/Users/jeanettemumford/Dropbox/Research/Projects/Fsf_converter/ModelZoo/models/model-ds0005_smdl.json'\n"
   ]
  },
  {
   "cell_type": "code",
   "execution_count": 4,
   "metadata": {},
   "outputs": [],
   "source": [
    "layout = BIDSLayout(\n",
    "        root = root,\n",
    "        database_path=database_path,\n",
    "        reset_database=reset_database\n",
    ")\n",
    "\n",
    "graph = BIDSStatsModelsGraph(layout, model_path)\n",
    "graph.load_collections(scan_length=240)    \n",
    "\n"
   ]
  },
  {
   "cell_type": "code",
   "execution_count": 5,
   "metadata": {},
   "outputs": [],
   "source": [
    "reg_info_collections = run_node_3col_grabber(graph)"
   ]
  },
  {
   "cell_type": "code",
   "execution_count": 6,
   "metadata": {},
   "outputs": [
    {
     "name": "stdout",
     "output_type": "stream",
     "text": [
      "dict_keys(['sub-01_task-mixedgamblestask_run-1', 'sub-01_task-mixedgamblestask_run-2', 'sub-01_task-mixedgamblestask_run-3', 'sub-02_task-mixedgamblestask_run-1', 'sub-02_task-mixedgamblestask_run-2', 'sub-02_task-mixedgamblestask_run-3'])\n"
     ]
    }
   ],
   "source": [
    "print(reg_info_collections.keys())"
   ]
  },
  {
   "cell_type": "code",
   "execution_count": 7,
   "metadata": {},
   "outputs": [
    {
     "name": "stdout",
     "output_type": "stream",
     "text": [
      "dict_keys(['confounds', 'all_trials', 'gain', 'loss', 'distance from indifference'])\n",
      "confounds\n",
      "Empty DataFrame\n",
      "Columns: []\n",
      "Index: []\n",
      "all_trials\n",
      "    onset  duration  amplitude\n",
      "0     0.0         3          1\n",
      "1     4.0         3          1\n",
      "2     8.0         3          1\n",
      "3    18.0         3          1\n",
      "4    24.0         3          1\n",
      "..    ...       ...        ...\n",
      "81  458.0         3          1\n",
      "82  462.0         3          1\n",
      "83  466.0         3          1\n",
      "84  470.0         3          1\n",
      "85  474.0         3          1\n",
      "\n",
      "[86 rows x 3 columns]\n",
      "gain\n",
      "    onset  duration  amplitude\n",
      "0     0.0         3         20\n",
      "1     4.0         3         18\n",
      "2     8.0         3         10\n",
      "3    18.0         3         34\n",
      "4    24.0         3         18\n",
      "..    ...       ...        ...\n",
      "81  458.0         3         16\n",
      "82  462.0         3         36\n",
      "83  466.0         3         26\n",
      "84  470.0         3         20\n",
      "85  474.0         3         24\n",
      "\n",
      "[86 rows x 3 columns]\n",
      "loss\n",
      "    onset  duration  amplitude\n",
      "0     0.0         3         15\n",
      "1     4.0         3         12\n",
      "2     8.0         3         15\n",
      "3    18.0         3         16\n",
      "4    24.0         3          5\n",
      "..    ...       ...        ...\n",
      "81  458.0         3         18\n",
      "82  462.0         3         12\n",
      "83  466.0         3          9\n",
      "84  470.0         3         12\n",
      "85  474.0         3         14\n",
      "\n",
      "[86 rows x 3 columns]\n",
      "distance from indifference\n",
      "    onset  duration  amplitude\n",
      "0     0.0         3    -0.0814\n",
      "1     4.0         3    -0.4147\n",
      "2     8.0         3     0.2519\n",
      "3    18.0         3    -0.0814\n",
      "4    24.0         3    -0.0814\n",
      "..    ...       ...        ...\n",
      "81  458.0         3     0.5853\n",
      "82  462.0         3     0.2519\n",
      "83  466.0         3    -0.0814\n",
      "84  470.0         3    -0.4147\n",
      "85  474.0         3    -0.0814\n",
      "\n",
      "[86 rows x 3 columns]\n"
     ]
    }
   ],
   "source": [
    "print(reg_info_collections['sub-01_task-mixedgamblestask_run-1'].keys())\n",
    "\n",
    "for key, value in reg_info_collections['sub-01_task-mixedgamblestask_run-1'].items():\n",
    "    print(key)\n",
    "    print(value)"
   ]
  },
  {
   "cell_type": "code",
   "execution_count": 8,
   "metadata": {},
   "outputs": [],
   "source": [
    "all_specs = load_graph(graph, node=None, inputs=None)"
   ]
  },
  {
   "cell_type": "code",
   "execution_count": 24,
   "metadata": {},
   "outputs": [
    {
     "name": "stdout",
     "output_type": "stream",
     "text": [
      "dict_keys(['contrasts', 'entities', 'level', 'X', 'name', 'model', 'metadata'])\n"
     ]
    }
   ],
   "source": [
    "print(all_specs['subject'][0].keys())"
   ]
  },
  {
   "cell_type": "code",
   "execution_count": 12,
   "metadata": {},
   "outputs": [
    {
     "data": {
      "text/plain": [
       "<AxesSubplot:label='conditions', ylabel='scan number'>"
      ]
     },
     "execution_count": 12,
     "metadata": {},
     "output_type": "execute_result"
    },
    {
     "data": {
      "image/png": "[encoded data removed]",
      "text/plain": [
       "<Figure size 138.24x720 with 1 Axes>"
      ]
     },
     "metadata": {
      "needs_background": "light"
     },
     "output_type": "display_data"
    }
   ],
   "source": [
    "#ugly, maybe we're good with checking the 3 column onset files?\n",
    "plot_design_matrix(all_specs['subject'][0]['X'])"
   ]
  },
  {
   "cell_type": "code",
   "execution_count": 27,
   "metadata": {},
   "outputs": [
    {
     "name": "stdout",
     "output_type": "stream",
     "text": [
      "dict_keys(['contrasts', 'entities', 'level', 'X', 'name', 'model', 'metadata'])\n",
      "Level dataset\n",
      "Model t-test\n",
      "   neg_loss_parametric\n",
      "0                    1\n",
      "1                    1\n",
      "Model t-test\n",
      "   loss\n",
      "0     1\n",
      "1     1\n"
     ]
    }
   ],
   "source": [
    "print(all_specs['t-test'][0].keys())\n",
    "\n",
    "for lev_key, lev_info in all_specs.items():\n",
    "    cur_level = lev_info[0]['level']\n",
    "    if cur_level != 'run':\n",
    "        print(f'Level {cur_level}')\n",
    "        for single_mod in lev_info:\n",
    "            print(f'Model {single_mod[\"name\"]}')\n",
    "            print(single_mod['X'])"
   ]
  },
  {
   "cell_type": "code",
   "execution_count": null,
   "metadata": {},
   "outputs": [],
   "source": []
  }
 ],
 "metadata": {
  "interpreter": {
   "hash": "f183487e75c86b25d211dece0ae7dc68729df7aaa20f2c11ebe325676df970a7"
  },
  "kernelspec": {
   "display_name": "Python 3.9.12 ('fitlins')",
   "language": "python",
   "name": "python3"
  },
  "language_info": {
   "codemirror_mode": {
    "name": "ipython",
    "version": 3
   },
   "file_extension": ".py",
   "mimetype": "text/x-python",
   "name": "python",
   "nbconvert_exporter": "python",
   "pygments_lexer": "ipython3",
   "version": "3.9.12"
  },
  "orig_nbformat": 4
 },
 "nbformat": 4,
 "nbformat_minor": 2
}
